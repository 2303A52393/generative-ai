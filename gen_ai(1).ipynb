{
  "nbformat": 4,
  "nbformat_minor": 0,
  "metadata": {
    "colab": {
      "provenance": [],
      "authorship_tag": "ABX9TyNkqGH2EaptJNCFU59sMF8X",
      "include_colab_link": true
    },
    "kernelspec": {
      "name": "python3",
      "display_name": "Python 3"
    },
    "language_info": {
      "name": "python"
    }
  },
  "cells": [
    {
      "cell_type": "markdown",
      "metadata": {
        "id": "view-in-github",
        "colab_type": "text"
      },
      "source": [
        "<a href=\"https://colab.research.google.com/github/2303A52393/generative-ai/blob/main/gen_ai(1).ipynb\" target=\"_parent\"><img src=\"https://colab.research.google.com/assets/colab-badge.svg\" alt=\"Open In Colab\"/></a>"
      ]
    },
    {
      "cell_type": "code",
      "execution_count": 1,
      "metadata": {
        "id": "gIS4zdE1jwP3"
      },
      "outputs": [],
      "source": [
        "import numpy as np\n",
        "from sklearn.metrics import mean_absolute_error, mean_squared_error\n"
      ]
    },
    {
      "cell_type": "code",
      "source": [
        "y_actual = np.array([20, 30, 40, 50, 60])\n",
        "y_pred = np.array([20.5, 30.3, 40.2, 50.6, 60.7])"
      ],
      "metadata": {
        "id": "h9NzT8QHjy0g"
      },
      "execution_count": 2,
      "outputs": []
    },
    {
      "cell_type": "code",
      "source": [
        "n = len(y_actual)"
      ],
      "metadata": {
        "id": "6mTFDAxuj1BP"
      },
      "execution_count": 3,
      "outputs": []
    },
    {
      "cell_type": "code",
      "source": [
        "mae_manual = np.sum(np.abs(y_actual - y_pred)) / n"
      ],
      "metadata": {
        "id": "e5emTXw_j3VH"
      },
      "execution_count": 4,
      "outputs": []
    },
    {
      "cell_type": "code",
      "source": [
        "mse_manual = np.sum((y_actual - y_pred)**2) / n\n"
      ],
      "metadata": {
        "id": "kgS5Sn5Sj5Gd"
      },
      "execution_count": 5,
      "outputs": []
    },
    {
      "cell_type": "code",
      "source": [
        "rmse_manual = np.sqrt(mse_manual)"
      ],
      "metadata": {
        "id": "YZzAGTMlj8y1"
      },
      "execution_count": 6,
      "outputs": []
    },
    {
      "cell_type": "code",
      "source": [
        "mape_manual = np.sum(np.abs((y_actual - y_pred) / y_actual)) * 100 / n\n"
      ],
      "metadata": {
        "id": "WAECa01Xj_n1"
      },
      "execution_count": 7,
      "outputs": []
    },
    {
      "cell_type": "code",
      "source": [
        "mae_sklearn = mean_absolute_error(y_actual, y_pred)\n",
        "mse_sklearn = mean_squared_error(y_actual, y_pred)\n",
        "rmse_sklearn = np.sqrt(mse_sklearn)\n"
      ],
      "metadata": {
        "id": "KexkQIfmkDCs"
      },
      "execution_count": 8,
      "outputs": []
    },
    {
      "cell_type": "code",
      "source": [
        "print(\"Manual Computations:\")\n",
        "print(f\"MAE: {mae_manual}\")\n",
        "print(f\"MSE: {mse_manual}\")\n",
        "print(f\"RMSE: {rmse_manual}\")\n",
        "print(f\"MAPE: {mape_manual}%\")"
      ],
      "metadata": {
        "colab": {
          "base_uri": "https://localhost:8080/"
        },
        "id": "jDygzsfhkF6G",
        "outputId": "91001ac4-7033-46da-9f99-c032dd447443"
      },
      "execution_count": 9,
      "outputs": [
        {
          "output_type": "stream",
          "name": "stdout",
          "text": [
            "Manual Computations:\n",
            "MAE: 0.4600000000000016\n",
            "MSE: 0.24600000000000147\n",
            "RMSE: 0.49598387070549127\n",
            "MAPE: 1.2733333333333368%\n"
          ]
        }
      ]
    },
    {
      "cell_type": "code",
      "source": [
        "print(\"\\nUsing sklearn:\")\n",
        "print(f\"MAE: {mae_sklearn}\")\n",
        "print(f\"MSE: {mse_sklearn}\")\n",
        "print(f\"RMSE: {rmse_sklearn}\")"
      ],
      "metadata": {
        "colab": {
          "base_uri": "https://localhost:8080/"
        },
        "id": "PjEwnSo1kIUi",
        "outputId": "b6443970-46a5-479d-d64c-8d93eac51af4"
      },
      "execution_count": 10,
      "outputs": [
        {
          "output_type": "stream",
          "name": "stdout",
          "text": [
            "\n",
            "Using sklearn:\n",
            "MAE: 0.4600000000000016\n",
            "MSE: 0.24600000000000147\n",
            "RMSE: 0.49598387070549127\n"
          ]
        }
      ]
    },
    {
      "cell_type": "code",
      "source": [
        "import numpy as np\n",
        "\n",
        "y_actual = np.array([0, 0, 0, 0, 0, 1, 1, 1, 2, 2])\n",
        "y_pred = np.array([0, 0, 1, 2, 2, 1, 2, 2, 1, 2])\n",
        "\n",
        "def calculate_metrics(y_actual, y_pred):\n",
        "    unique_classes = np.unique(np.concatenate((y_actual, y_pred)))\n",
        "    confusion_matrix = np.zeros((len(unique_classes), len(unique_classes)), dtype=int)\n",
        "\n",
        "    for actual, pred in zip(y_actual, y_pred):\n",
        "        confusion_matrix[actual, pred] += 1\n",
        "\n",
        "    accuracy = np.trace(confusion_matrix) / np.sum(confusion_matrix)\n",
        "    precision = []\n",
        "    recall = []\n",
        "\n",
        "    for i in range(len(unique_classes)):\n",
        "        tp = confusion_matrix[i, i]\n",
        "        fp = np.sum(confusion_matrix[:, i]) - tp\n",
        "        fn = np.sum(confusion_matrix[i, :]) - tp\n",
        "        precision.append(tp / (tp + fp) if (tp + fp) > 0 else 0)\n",
        "        recall.append(tp / (tp + fn) if (tp + fn) > 0 else 0)\n",
        "\n",
        "    return accuracy, np.mean(precision), np.mean(recall), confusion_matrix\n",
        "\n",
        "accuracy, precision, recall, confusion_matrix = calculate_metrics(y_actual, y_pred)\n",
        "\n",
        "print(f\"Accuracy: {accuracy:.2f}\")\n",
        "print(f\"Precision: {precision:.2f}\")\n",
        "print(f\"Recall: {recall:.2f}\")\n",
        "print(\"Confusion Matrix:\")\n",
        "print(confusion_matrix)"
      ],
      "metadata": {
        "colab": {
          "base_uri": "https://localhost:8080/"
        },
        "id": "psHBcFv3kLMZ",
        "outputId": "4328c2e3-08c4-4534-9ff3-6cfc9f497766"
      },
      "execution_count": 11,
      "outputs": [
        {
          "output_type": "stream",
          "name": "stdout",
          "text": [
            "Accuracy: 0.40\n",
            "Precision: 0.51\n",
            "Recall: 0.41\n",
            "Confusion Matrix:\n",
            "[[2 1 2]\n",
            " [0 1 2]\n",
            " [0 1 1]]\n"
          ]
        }
      ]
    },
    {
      "cell_type": "code",
      "source": [],
      "metadata": {
        "id": "aU5zns1fkTHl"
      },
      "execution_count": null,
      "outputs": []
    }
  ]
}